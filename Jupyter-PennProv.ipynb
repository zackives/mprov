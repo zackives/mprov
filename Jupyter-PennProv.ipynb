{
 "cells": [
  {
   "cell_type": "code",
   "execution_count": 3,
   "metadata": {},
   "outputs": [
    {
     "name": "stdout",
     "output_type": "stream",
     "text": [
      "Collecting pennprov\n",
      "  Downloading pennprov-2.2.5-py2.py3-none-any.whl (101 kB)\n",
      "\u001b[K     |████████████████████████████████| 101 kB 1.2 MB/s ta 0:00:011\n",
      "\u001b[?25hRequirement already satisfied: python-dateutil>=2.1 in /opt/conda/lib/python3.7/site-packages (from pennprov) (2.8.1)\n",
      "Requirement already satisfied: urllib3>=1.23 in /opt/conda/lib/python3.7/site-packages (from pennprov) (1.25.9)\n",
      "Requirement already satisfied: six>=1.10 in /opt/conda/lib/python3.7/site-packages (from pennprov) (1.14.0)\n",
      "Requirement already satisfied: pandas>=1.0 in /opt/conda/lib/python3.7/site-packages (from pennprov) (1.0.3)\n",
      "Requirement already satisfied: certifi>=2017.4.17 in /opt/conda/lib/python3.7/site-packages (from pennprov) (2020.4.5.1)\n",
      "Requirement already satisfied: pyspark>=2.4 in /usr/local/spark-2.4.5-bin-hadoop2.7/python (from pennprov) (2.4.5)\n",
      "Requirement already satisfied: numpy>=1.13.3 in /opt/conda/lib/python3.7/site-packages (from pandas>=1.0->pennprov) (1.16.1)\n",
      "Requirement already satisfied: pytz>=2017.2 in /opt/conda/lib/python3.7/site-packages (from pandas>=1.0->pennprov) (2017.2)\n",
      "Requirement already satisfied: py4j==0.10.7 in /opt/conda/lib/python3.7/site-packages (from pyspark>=2.4->pennprov) (0.10.7)\n",
      "Installing collected packages: pennprov\n",
      "Successfully installed pennprov-2.2.5\n"
     ]
    }
   ],
   "source": [
    "!pip install pennprov"
   ]
  },
  {
   "cell_type": "code",
   "execution_count": 13,
   "metadata": {},
   "outputs": [],
   "source": [
    "from pennprov.connection.mprov_connection import MProvConnection\n",
    "from pennprov.metadata.stream_metadata import BasicSchema, BasicTuple\n",
    "from datetime import datetime, timezone\n",
    "\n",
    "def area_circle(input):\n",
    "    return {'key': input['key'],\n",
    "        'value': input['value'] * input['value'] * 3.1415}\n",
    "\n",
    "conn = MProvConnection('YOUR_USERNAME', 'YOUR_PASSWORD', 'host.docker.internal:8088')\n",
    "\n",
    "# Create a simple relation or stream, with a binary schema\n",
    "data_schema = BasicSchema('SampleStream', {'key': 'int', 'value':'int'})\n"
   ]
  },
  {
   "cell_type": "code",
   "execution_count": 17,
   "metadata": {},
   "outputs": [],
   "source": [
    "# Create a sample tuple\n",
    "for i in range(0,10):\n",
    "    tuple = BasicTuple(data_schema, {'key': i, 'value': 456 + i})\n",
    "    tuple_index = i\n",
    "\n",
    "    # Store the initial data, get the ID (token) of its node in the graph\n",
    "    input_token = conn.store_stream_tuple('SampleStream', tuple_index, tuple)\n",
    "\n",
    "    # Compute an operation over the tuple, convert it to a tuple\n",
    "    ts = datetime.now(timezone.utc)\n",
    "    result = area_circle(tuple)\n",
    "    out_tuple = BasicTuple(data_schema, result)\n",
    "\n",
    "    # Store the derived tuple and the derivation name / time\n",
    "    conn.store_derived_result('OutStream', tuple_index, out_tuple, input_token, 'area_circle', ts, ts)\n"
   ]
  },
  {
   "cell_type": "code",
   "execution_count": null,
   "metadata": {},
   "outputs": [],
   "source": []
  }
 ],
 "metadata": {
  "kernelspec": {
   "display_name": "Python 3",
   "language": "python",
   "name": "python3"
  },
  "language_info": {
   "codemirror_mode": {
    "name": "ipython",
    "version": 3
   },
   "file_extension": ".py",
   "mimetype": "text/x-python",
   "name": "python",
   "nbconvert_exporter": "python",
   "pygments_lexer": "ipython3",
   "version": "3.7.6"
  }
 },
 "nbformat": 4,
 "nbformat_minor": 4
}
